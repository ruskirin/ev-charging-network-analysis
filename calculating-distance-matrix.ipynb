{
 "cells": [
  {
   "cell_type": "code",
   "execution_count": 8,
   "id": "17261d04",
   "metadata": {},
   "outputs": [
    {
     "ename": "ModuleNotFoundError",
     "evalue": "No module named 'psycopg2'",
     "output_type": "error",
     "traceback": [
      "\u001b[0;31m---------------------------------------------------------------------------\u001b[0m",
      "\u001b[0;31mModuleNotFoundError\u001b[0m                       Traceback (most recent call last)",
      "Cell \u001b[0;32mIn[8], line 5\u001b[0m\n\u001b[1;32m      3\u001b[0m \u001b[38;5;28;01mimport\u001b[39;00m \u001b[38;5;21;01mnumpy\u001b[39;00m \u001b[38;5;28;01mas\u001b[39;00m \u001b[38;5;21;01mnp\u001b[39;00m\n\u001b[1;32m      4\u001b[0m \u001b[38;5;28;01mimport\u001b[39;00m \u001b[38;5;21;01mmatplotlib\u001b[39;00m\u001b[38;5;21;01m.\u001b[39;00m\u001b[38;5;21;01mpyplot\u001b[39;00m \u001b[38;5;28;01mas\u001b[39;00m \u001b[38;5;21;01mplt\u001b[39;00m\n\u001b[0;32m----> 5\u001b[0m \u001b[38;5;28;01mimport\u001b[39;00m \u001b[38;5;21;01mpsycopg2\u001b[39;00m \u001b[38;5;28;01mas\u001b[39;00m \u001b[38;5;21;01mpsql\u001b[39;00m\n\u001b[1;32m      6\u001b[0m \u001b[38;5;28;01mfrom\u001b[39;00m \u001b[38;5;21;01mpathlib\u001b[39;00m \u001b[38;5;28;01mimport\u001b[39;00m Path\n",
      "\u001b[0;31mModuleNotFoundError\u001b[0m: No module named 'psycopg2'"
     ]
    }
   ],
   "source": [
    "import json\n",
    "import pandas as pd\n",
    "import numpy as np\n",
    "import matplotlib.pyplot as plt\n",
    "import psycopg2 as psql\n",
    "from pathlib import Path"
   ]
  },
  {
   "cell_type": "code",
   "execution_count": 3,
   "id": "17b79487",
   "metadata": {},
   "outputs": [],
   "source": [
    "path_desc = Path('data/features-desc.csv')\n",
    "path_ev = Path('data/EV_Charging_Stations_Jan312023.xlsx')\n",
    "path_geo = Path('data/uscities.xlsx')"
   ]
  },
  {
   "cell_type": "code",
   "execution_count": 5,
   "id": "7e2d389b",
   "metadata": {},
   "outputs": [],
   "source": [
    "data = pd.read_excel(path_ev, sheet_name='Raw', engine='openpyxl')"
   ]
  },
  {
   "cell_type": "code",
   "execution_count": null,
   "id": "f1f7fe97",
   "metadata": {},
   "outputs": [],
   "source": [
    "data.to_csv(path_ev.parent/'partially_cleaned_EV_Charging_Stations_Jan312023.csv', index=False)"
   ]
  },
  {
   "cell_type": "code",
   "execution_count": 6,
   "id": "98fa07f5",
   "metadata": {
    "scrolled": true
   },
   "outputs": [
    {
     "name": "stdout",
     "output_type": "stream",
     "text": [
      "<class 'pandas.core.frame.DataFrame'>\n",
      "RangeIndex: 54238 entries, 0 to 54237\n",
      "Data columns (total 69 columns):\n",
      " #   Column                            Non-Null Count  Dtype         \n",
      "---  ------                            --------------  -----         \n",
      " 0   Fuel Type Code                    54238 non-null  object        \n",
      " 1   Station Name                      54236 non-null  object        \n",
      " 2   Street Address                    54204 non-null  object        \n",
      " 3   Intersection Directions           2637 non-null   object        \n",
      " 4   City                              54238 non-null  object        \n",
      " 5   State                             54236 non-null  object        \n",
      " 6   ZIP                               54238 non-null  object        \n",
      " 7   Plus4                             0 non-null      float64       \n",
      " 8   Station Phone                     50826 non-null  object        \n",
      " 9   Status Code                       54238 non-null  object        \n",
      " 10  Expected Date                     0 non-null      float64       \n",
      " 11  Groups With Access Code           54238 non-null  object        \n",
      " 12  Access Days Time                  45802 non-null  object        \n",
      " 13  Cards Accepted                    3978 non-null   object        \n",
      " 14  BD Blends                         0 non-null      float64       \n",
      " 15  NG Fill Type Code                 0 non-null      float64       \n",
      " 16  NG PSI                            0 non-null      float64       \n",
      " 17  EV Level1 EVSE Num                700 non-null    float64       \n",
      " 18  EV Level2 EVSE Num                48014 non-null  float64       \n",
      " 19  EV DC Fast Count                  6974 non-null   float64       \n",
      " 20  EV Other Info                     50 non-null     object        \n",
      " 21  EV Network                        54236 non-null  object        \n",
      " 22  EV Network Web                    45117 non-null  object        \n",
      " 23  Geocode Status                    54238 non-null  object        \n",
      " 24  Latitude                          54238 non-null  float64       \n",
      " 25  Longitude                         54238 non-null  float64       \n",
      " 26  Date Last Confirmed               53930 non-null  datetime64[ns]\n",
      " 27  ID                                54238 non-null  int64         \n",
      " 28  Updated At                        54238 non-null  object        \n",
      " 29  Owner Type Code                   18066 non-null  object        \n",
      " 30  Federal Agency ID                 1051 non-null   float64       \n",
      " 31  Federal Agency Name               1051 non-null   object        \n",
      " 32  Open Date                         54219 non-null  datetime64[ns]\n",
      " 33  Hydrogen Status Link              0 non-null      float64       \n",
      " 34  NG Vehicle Class                  0 non-null      float64       \n",
      " 35  LPG Primary                       0 non-null      float64       \n",
      " 36  E85 Blender Pump                  0 non-null      float64       \n",
      " 37  EV Connector Types                54190 non-null  object        \n",
      " 38  Country                           54238 non-null  object        \n",
      " 39  Intersection Directions (French)  0 non-null      float64       \n",
      " 40  Access Days Time (French)         0 non-null      float64       \n",
      " 41  BD Blends (French)                0 non-null      float64       \n",
      " 42  Groups With Access Code (French)  54238 non-null  object        \n",
      " 43  Hydrogen Is Retail                0 non-null      float64       \n",
      " 44  Access Code                       54238 non-null  object        \n",
      " 45  Access Detail Code                4554 non-null   object        \n",
      " 46  Federal Agency Code               1051 non-null   object        \n",
      " 47  Facility Type                     16733 non-null  object        \n",
      " 48  CNG Dispenser Num                 0 non-null      float64       \n",
      " 49  CNG On-Site Renewable Source      0 non-null      float64       \n",
      " 50  CNG Total Compression Capacity    0 non-null      float64       \n",
      " 51  CNG Storage Capacity              0 non-null      float64       \n",
      " 52  LNG On-Site Renewable Source      0 non-null      float64       \n",
      " 53  E85 Other Ethanol Blends          0 non-null      float64       \n",
      " 54  EV Pricing                        15314 non-null  object        \n",
      " 55  EV Pricing (French)               0 non-null      float64       \n",
      " 56  LPG Nozzle Types                  0 non-null      float64       \n",
      " 57  Hydrogen Pressures                0 non-null      float64       \n",
      " 58  Hydrogen Standards                0 non-null      float64       \n",
      " 59  CNG Fill Type Code                0 non-null      float64       \n",
      " 60  CNG PSI                           0 non-null      float64       \n",
      " 61  CNG Vehicle Class                 0 non-null      float64       \n",
      " 62  LNG Vehicle Class                 0 non-null      float64       \n",
      " 63  EV On-Site Renewable Source       361 non-null    object        \n",
      " 64  Restricted Access                 9105 non-null   float64       \n",
      " 65  RD Blends                         0 non-null      float64       \n",
      " 66  RD Blends (French)                0 non-null      float64       \n",
      " 67  RD Blended with Biodiesel         0 non-null      float64       \n",
      " 68  RD Maximum Biodiesel Level        0 non-null      float64       \n",
      "dtypes: datetime64[ns](2), float64(38), int64(1), object(28)\n",
      "memory usage: 28.6+ MB\n"
     ]
    }
   ],
   "source": [
    "data.info()"
   ]
  },
  {
   "cell_type": "code",
   "execution_count": null,
   "id": "bd88ff5a",
   "metadata": {},
   "outputs": [],
   "source": []
  }
 ],
 "metadata": {
  "kernelspec": {
   "display_name": "Python 3 (ipykernel)",
   "language": "python",
   "name": "python3"
  },
  "language_info": {
   "codemirror_mode": {
    "name": "ipython",
    "version": 3
   },
   "file_extension": ".py",
   "mimetype": "text/x-python",
   "name": "python",
   "nbconvert_exporter": "python",
   "pygments_lexer": "ipython3",
   "version": "3.10.10"
  }
 },
 "nbformat": 4,
 "nbformat_minor": 5
}
